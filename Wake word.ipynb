{
 "cells": [
  {
   "cell_type": "code",
   "execution_count": 8,
   "metadata": {},
   "outputs": [],
   "source": []
  },
  {
   "cell_type": "markdown",
   "metadata": {},
   "source": [
    "def get_next_audio_frame():\n",
    "  pass\n",
    "\n",
    "\n",
    "while True:\n",
    "  audio_frame = get_next_audio_frame()\n",
    "  keyword_index = porcupine.process(audio_frame)\n",
    "  if keyword_index == 0:\n",
    "      # detected `porcupine`\n",
    "  elif keyword_index == 1:\n",
    "      # detected `bumblebee`\n"
   ]
  },
  {
   "cell_type": "code",
   "execution_count": 23,
   "metadata": {},
   "outputs": [
    {
     "name": "stdout",
     "output_type": "stream",
     "text": [
      "Wake word detected!\n",
      "Wake word detected!\n",
      "Wake word detected!\n",
      "Wake word detected!\n",
      "Wake word detected!\n"
     ]
    },
    {
     "ename": "KeyboardInterrupt",
     "evalue": "",
     "output_type": "error",
     "traceback": [
      "\u001b[1;31m---------------------------------------------------------------------------\u001b[0m",
      "\u001b[1;31mKeyboardInterrupt\u001b[0m                         Traceback (most recent call last)",
      "Cell \u001b[1;32mIn[23], line 33\u001b[0m\n\u001b[0;32m     30\u001b[0m \u001b[38;5;66;03m# Continuously read from the audio stream and check for the wake word\u001b[39;00m\n\u001b[0;32m     31\u001b[0m \u001b[38;5;28;01mwhile\u001b[39;00m \u001b[38;5;28;01mTrue\u001b[39;00m:\n\u001b[0;32m     32\u001b[0m     \u001b[38;5;66;03m# Read audio data\u001b[39;00m\n\u001b[1;32m---> 33\u001b[0m     pcm \u001b[38;5;241m=\u001b[39m \u001b[43mstream\u001b[49m\u001b[38;5;241;43m.\u001b[39;49m\u001b[43mread\u001b[49m\u001b[43m(\u001b[49m\u001b[43mframes_per_buffer\u001b[49m\u001b[43m)\u001b[49m\n\u001b[0;32m     34\u001b[0m     pcm \u001b[38;5;241m=\u001b[39m struct\u001b[38;5;241m.\u001b[39munpack_from(\u001b[38;5;124m\"\u001b[39m\u001b[38;5;124mh\u001b[39m\u001b[38;5;124m\"\u001b[39m \u001b[38;5;241m*\u001b[39m frames_per_buffer, pcm)\n\u001b[0;32m     36\u001b[0m     \u001b[38;5;66;03m# Pass the audio data to Porcupine\u001b[39;00m\n",
      "File \u001b[1;32mc:\\Users\\kush2\\AppData\\Local\\Programs\\Python\\Python312\\Lib\\site-packages\\pyaudio\\__init__.py:570\u001b[0m, in \u001b[0;36mPyAudio.Stream.read\u001b[1;34m(self, num_frames, exception_on_overflow)\u001b[0m\n\u001b[0;32m    567\u001b[0m \u001b[38;5;28;01mif\u001b[39;00m \u001b[38;5;129;01mnot\u001b[39;00m \u001b[38;5;28mself\u001b[39m\u001b[38;5;241m.\u001b[39m_is_input:\n\u001b[0;32m    568\u001b[0m     \u001b[38;5;28;01mraise\u001b[39;00m \u001b[38;5;167;01mIOError\u001b[39;00m(\u001b[38;5;124m\"\u001b[39m\u001b[38;5;124mNot input stream\u001b[39m\u001b[38;5;124m\"\u001b[39m,\n\u001b[0;32m    569\u001b[0m                   paCanNotReadFromAnOutputOnlyStream)\n\u001b[1;32m--> 570\u001b[0m \u001b[38;5;28;01mreturn\u001b[39;00m \u001b[43mpa\u001b[49m\u001b[38;5;241;43m.\u001b[39;49m\u001b[43mread_stream\u001b[49m\u001b[43m(\u001b[49m\u001b[38;5;28;43mself\u001b[39;49m\u001b[38;5;241;43m.\u001b[39;49m\u001b[43m_stream\u001b[49m\u001b[43m,\u001b[49m\u001b[43m \u001b[49m\u001b[43mnum_frames\u001b[49m\u001b[43m,\u001b[49m\n\u001b[0;32m    571\u001b[0m \u001b[43m                      \u001b[49m\u001b[43mexception_on_overflow\u001b[49m\u001b[43m)\u001b[49m\n",
      "\u001b[1;31mKeyboardInterrupt\u001b[0m: "
     ]
    }
   ],
   "source": [
    "import pvporcupine\n",
    "import pyaudio\n",
    "import struct\n",
    "\n",
    "# Initialize Porcupine\n",
    "handle = pvporcupine.create(\n",
    "    access_key='NOytofurpHx0NVo8rKMj+BVMt0uPNXtrbJjcXq4utZgUv7jMjPnAFQ==',\n",
    "    keyword_paths=[r\"D:\\capstone\\New Approach For VA\\Hello-Eva_en_windows_v3_0_0.ppn\"],\n",
    "    sensitivities=[0.99]\n",
    ")\n",
    "\n",
    "# Get the required audio sample rate\n",
    "sample_rate = handle.sample_rate\n",
    "\n",
    "# Create a buffer to hold audio data\n",
    "frames_per_buffer = handle.frame_length\n",
    "\n",
    "# Initialize PyAudio\n",
    "audio = pyaudio.PyAudio()\n",
    "\n",
    "# Open a new audio stream\n",
    "stream = audio.open(\n",
    "    rate=sample_rate,\n",
    "    channels=1,\n",
    "    format=pyaudio.paInt16,\n",
    "    input=True,\n",
    "    frames_per_buffer=frames_per_buffer\n",
    ")\n",
    "\n",
    "# Continuously read from the audio stream and check for the wake word\n",
    "while True:\n",
    "    # Read audio data\n",
    "    pcm = stream.read(frames_per_buffer)\n",
    "    pcm = struct.unpack_from(\"h\" * frames_per_buffer, pcm)\n",
    "\n",
    "    # Pass the audio data to Porcupine\n",
    "    keyword_index = handle.process(pcm)\n",
    "\n",
    "    # If the wake word was detected, print a message\n",
    "    if keyword_index >= 0:\n",
    "        print(\"Wake word detected!\")\n",
    "\n",
    "# Clean up\n",
    "handle.delete()\n",
    "audio.terminate()\n"
   ]
  }
 ],
 "metadata": {
  "kernelspec": {
   "display_name": "Python 3",
   "language": "python",
   "name": "python3"
  },
  "language_info": {
   "codemirror_mode": {
    "name": "ipython",
    "version": 3
   },
   "file_extension": ".py",
   "mimetype": "text/x-python",
   "name": "python",
   "nbconvert_exporter": "python",
   "pygments_lexer": "ipython3",
   "version": "3.12.1"
  }
 },
 "nbformat": 4,
 "nbformat_minor": 2
}
